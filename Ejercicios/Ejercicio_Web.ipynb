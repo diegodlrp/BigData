{
 "cells": [
  {
   "cell_type": "code",
   "execution_count": null,
   "id": "eb928005-75e7-4f7c-b3b9-a12f6b05e8f3",
   "metadata": {},
   "outputs": [],
   "source": []
  },
  {
   "cell_type": "code",
   "execution_count": null,
   "id": "c48789e4-5ca6-4ee2-9213-6cde5e661d69",
   "metadata": {},
   "outputs": [],
   "source": [
    "#CONECTATE A LA URL UTILIZANDO UN USER-AGENT Y MUESTRA EL TEXTO DE TODOS LOS ENLACES DE LA PÁGINA\n",
    "#URL https://es.wikipedia.org/wiki/Leonardo_DiCaprio"
   ]
  },
  {
   "cell_type": "code",
   "execution_count": null,
   "id": "9cc9971a-641a-42b7-a476-0b7139f7cfee",
   "metadata": {},
   "outputs": [],
   "source": []
  },
  {
   "cell_type": "code",
   "execution_count": null,
   "id": "b372842c-5d99-4812-a6a7-8ce48d927de3",
   "metadata": {},
   "outputs": [],
   "source": []
  },
  {
   "cell_type": "code",
   "execution_count": null,
   "id": "e3610fc0-b94e-49b2-b670-d2182e42fb8a",
   "metadata": {},
   "outputs": [],
   "source": []
  },
  {
   "cell_type": "code",
   "execution_count": null,
   "id": "fab814d9-0ba8-43bf-a65a-29ed43efefeb",
   "metadata": {},
   "outputs": [],
   "source": [
    "#RECREA LA TABLA DE SU FILMOGRAFÍA SOLO CON \"FECHA\", \"TITULO\", Y \"NOTAS\""
   ]
  },
  {
   "cell_type": "code",
   "execution_count": null,
   "id": "3bd5e06b-241c-4123-aa75-aef670ffd219",
   "metadata": {},
   "outputs": [],
   "source": []
  },
  {
   "cell_type": "code",
   "execution_count": null,
   "id": "08a164ea-0877-4b95-9dbd-52e77aae6747",
   "metadata": {},
   "outputs": [],
   "source": [
    "#MUESTRA TODOS LOS PREMIOS QUE HA GANADO EL ACTOR"
   ]
  },
  {
   "cell_type": "code",
   "execution_count": null,
   "id": "55853833-aeb0-4bcc-83be-2c10e8d77236",
   "metadata": {},
   "outputs": [],
   "source": []
  },
  {
   "cell_type": "code",
   "execution_count": null,
   "id": "5af09f1c-d3e9-497d-8d0f-f97ed622c746",
   "metadata": {},
   "outputs": [],
   "source": [
    "#BUSCA UNA IMAGEN Y OTRO ELEMENTO CUALQUIERA, MUESTRA SUS ATRIBUTOS MÁS IMPORTANTES"
   ]
  },
  {
   "cell_type": "code",
   "execution_count": null,
   "id": "c5715492-cd1b-44b9-af72-43850781a22c",
   "metadata": {},
   "outputs": [],
   "source": []
  },
  {
   "cell_type": "code",
   "execution_count": null,
   "id": "4feb37e1-0996-4fd2-a797-f3545ac141d7",
   "metadata": {},
   "outputs": [],
   "source": [
    "#BUSCA Y MUESTRA LA INFORMACIÓN CORRESPONDIENTE A \"1996-2001: éxito mundial\" EN \"Trayectoria\""
   ]
  },
  {
   "cell_type": "code",
   "execution_count": null,
   "id": "1d8ff478-b070-4b45-bade-1602e32d78bc",
   "metadata": {},
   "outputs": [],
   "source": []
  }
 ],
 "metadata": {
  "kernelspec": {
   "display_name": "Python 3",
   "language": "python",
   "name": "python3"
  },
  "language_info": {
   "codemirror_mode": {
    "name": "ipython",
    "version": 3
   },
   "file_extension": ".py",
   "mimetype": "text/x-python",
   "name": "python",
   "nbconvert_exporter": "python",
   "pygments_lexer": "ipython3",
   "version": "3.8.8"
  }
 },
 "nbformat": 4,
 "nbformat_minor": 5
}
