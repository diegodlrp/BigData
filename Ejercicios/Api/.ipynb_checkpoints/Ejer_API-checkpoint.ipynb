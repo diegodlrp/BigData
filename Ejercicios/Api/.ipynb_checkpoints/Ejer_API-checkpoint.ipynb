{
 "cells": [
  {
   "cell_type": "code",
   "execution_count": null,
   "id": "57938b21-bb0a-41c7-a325-24ff5f9af098",
   "metadata": {},
   "outputs": [],
   "source": [
    "#DIEGORP APIs\n",
    "#https://jsonplaceholder.typicode.com/"
   ]
  },
  {
   "cell_type": "code",
   "execution_count": null,
   "id": "961cde30-17f6-4739-9eef-34081c600e7e",
   "metadata": {},
   "outputs": [],
   "source": []
  },
  {
   "cell_type": "code",
   "execution_count": null,
   "id": "5220122d-b56c-48c0-902b-755a5025fe0f",
   "metadata": {},
   "outputs": [],
   "source": [
    "#BUSCA LOS COMENTARIOS DEL POST 6 Y MUESTRALOS\n"
   ]
  },
  {
   "cell_type": "code",
   "execution_count": null,
   "id": "a3b8313d-0f5b-414a-9946-9701c5df11b0",
   "metadata": {},
   "outputs": [],
   "source": []
  },
  {
   "cell_type": "code",
   "execution_count": null,
   "id": "45684ce2-e386-4a58-9cbf-c5e3f88b4389",
   "metadata": {},
   "outputs": [],
   "source": []
  },
  {
   "cell_type": "code",
   "execution_count": null,
   "id": "43eddaa0-659f-420c-91b4-1636dde175d5",
   "metadata": {},
   "outputs": [],
   "source": [
    "# TRANSFORMA LA LISTA ANTERIOR EN DATAFRAME Y MUESTRALO"
   ]
  },
  {
   "cell_type": "code",
   "execution_count": null,
   "id": "938bb470-f169-4a51-a720-5d8d6a08bd6c",
   "metadata": {},
   "outputs": [],
   "source": []
  },
  {
   "cell_type": "code",
   "execution_count": null,
   "id": "e978db61-c93b-42b4-92a8-e2dd9f9655ad",
   "metadata": {},
   "outputs": [],
   "source": [
    "# BUSCA LOS COMENTARIOS PUBLICADOS POR EL USUARIO '5' Y MUESTRA LOS 3 PRIMEROS"
   ]
  },
  {
   "cell_type": "code",
   "execution_count": null,
   "id": "f3d660e4-1e66-41fe-9ed2-7083a1ff63d8",
   "metadata": {},
   "outputs": [],
   "source": []
  },
  {
   "cell_type": "code",
   "execution_count": null,
   "id": "9f581373-d178-4706-a613-9da64c37807a",
   "metadata": {},
   "outputs": [],
   "source": []
  },
  {
   "cell_type": "code",
   "execution_count": null,
   "id": "d636143f-dd62-4a2a-97f9-85b4cc495872",
   "metadata": {},
   "outputs": [],
   "source": [
    "#BUSCA Y MUESTRA AL USUARIO LLAMADO \"Ervin Howell\""
   ]
  },
  {
   "cell_type": "code",
   "execution_count": null,
   "id": "f981e0f3-0cbc-4913-b7d5-ab1f82e76ef2",
   "metadata": {},
   "outputs": [],
   "source": []
  },
  {
   "cell_type": "code",
   "execution_count": null,
   "id": "4aa585fc-23e5-42d5-bbe9-fe6dfa58cb8f",
   "metadata": {},
   "outputs": [],
   "source": [
    "#BUSCA Y MUESTRA EL ID DE LA FOTO PERTENECIENTE AL ALBUM 1 CON TITULO \"harum velit vero totam\""
   ]
  },
  {
   "cell_type": "code",
   "execution_count": null,
   "id": "106dddc9-9507-4005-9b7a-4521ed9bc6a1",
   "metadata": {},
   "outputs": [],
   "source": []
  },
  {
   "cell_type": "code",
   "execution_count": null,
   "id": "4ed14879-40c0-4c71-a983-e62c7dfd60ef",
   "metadata": {},
   "outputs": [],
   "source": []
  },
  {
   "cell_type": "code",
   "execution_count": null,
   "id": "d41768c7-551a-437f-9991-7cde8e8988f5",
   "metadata": {},
   "outputs": [],
   "source": [
    "#BUSCA Y MUESTRA EL MUNICIPIO Y PROVICIAN DE LA LOCALIZACIÖN 50500\n",
    "# API METEOSIX\n",
    "#https://servizos.meteogalicia.gal/apiv4/"
   ]
  },
  {
   "cell_type": "code",
   "execution_count": null,
   "id": "8cfe04c5-9f08-45c6-b6d1-7eca1cdc162f",
   "metadata": {},
   "outputs": [],
   "source": []
  },
  {
   "cell_type": "code",
   "execution_count": null,
   "id": "9ede5bed-d920-48db-add3-35608b5a8bf0",
   "metadata": {},
   "outputs": [],
   "source": []
  },
  {
   "cell_type": "code",
   "execution_count": null,
   "id": "d543b4c4-c3b1-43f3-94c7-0e305c08f76a",
   "metadata": {},
   "outputs": [],
   "source": []
  },
  {
   "cell_type": "code",
   "execution_count": null,
   "id": "0de4dd1d-2dff-4fcf-a84a-2574f538589d",
   "metadata": {},
   "outputs": [],
   "source": []
  },
  {
   "cell_type": "code",
   "execution_count": null,
   "id": "171763c5-5d2d-4d3c-9931-2e6572a5ac3a",
   "metadata": {},
   "outputs": [],
   "source": [
    "#MUESTRA LAS HORAS DE SOL ESTIMADAS PARA LA MISMA LOCALIZACION\n",
    "#CALCULA LA MEDIA Y LA MÁXIMA"
   ]
  },
  {
   "cell_type": "code",
   "execution_count": null,
   "id": "c820bc1a-9805-4e2c-8ed4-2f10e6ca5937",
   "metadata": {},
   "outputs": [],
   "source": []
  },
  {
   "cell_type": "code",
   "execution_count": null,
   "id": "59302c3e-478d-48e9-adce-e7893c0d5fe5",
   "metadata": {},
   "outputs": [],
   "source": []
  },
  {
   "cell_type": "code",
   "execution_count": null,
   "id": "4a735411-f845-4dfd-b4c5-7ca84af9efa5",
   "metadata": {},
   "outputs": [],
   "source": []
  },
  {
   "cell_type": "code",
   "execution_count": null,
   "id": "fb4033f9-e156-47d7-b03c-517d73fc2c24",
   "metadata": {},
   "outputs": [],
   "source": []
  },
  {
   "cell_type": "code",
   "execution_count": null,
   "id": "751d16b9-4d53-4561-9ea8-433b78d8c9fb",
   "metadata": {},
   "outputs": [],
   "source": []
  },
  {
   "cell_type": "code",
   "execution_count": null,
   "id": "d952685a-eaad-47a4-b853-0bc4fe60b24a",
   "metadata": {},
   "outputs": [],
   "source": [
    "#MUESTRA COMO UN DF LAS INFORMACION DE LAS MAREAS PARA HOY"
   ]
  },
  {
   "cell_type": "code",
   "execution_count": null,
   "id": "32468e50-5e5c-48f0-b380-521ce6c76b03",
   "metadata": {},
   "outputs": [],
   "source": []
  },
  {
   "cell_type": "code",
   "execution_count": null,
   "id": "23ed3c49-bcf0-489b-afd5-e7f26c9fbcef",
   "metadata": {},
   "outputs": [],
   "source": []
  },
  {
   "cell_type": "code",
   "execution_count": null,
   "id": "9346d1af-80c1-4604-96ad-a29814abba13",
   "metadata": {},
   "outputs": [],
   "source": [
    "#MUESTRA CON UNA SOLA LLAMADA A LA API LA INFORMACION DE LAS HORA DE SOL Y LA MAREA"
   ]
  },
  {
   "cell_type": "code",
   "execution_count": null,
   "id": "58ca9518-0117-4084-be49-692174b37a6d",
   "metadata": {},
   "outputs": [],
   "source": []
  },
  {
   "cell_type": "code",
   "execution_count": null,
   "id": "ed5216bd-5635-4bed-b096-c3183404b1a9",
   "metadata": {},
   "outputs": [],
   "source": [
    "#MUESTRA LA INFORMACION DE UNA LOCALIZACION LLAMADA \"catedrais\""
   ]
  },
  {
   "cell_type": "code",
   "execution_count": null,
   "id": "08e5d856-3c24-470b-ae83-1b8d1d947beb",
   "metadata": {},
   "outputs": [],
   "source": []
  }
 ],
 "metadata": {
  "kernelspec": {
   "display_name": "Python 3",
   "language": "python",
   "name": "python3"
  },
  "language_info": {
   "codemirror_mode": {
    "name": "ipython",
    "version": 3
   },
   "file_extension": ".py",
   "mimetype": "text/x-python",
   "name": "python",
   "nbconvert_exporter": "python",
   "pygments_lexer": "ipython3",
   "version": "3.8.8"
  }
 },
 "nbformat": 4,
 "nbformat_minor": 5
}
